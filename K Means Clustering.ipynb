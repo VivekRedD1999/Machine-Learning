{
 "cells": [
  {
   "cell_type": "code",
   "execution_count": 28,
   "id": "dc66fa6a",
   "metadata": {},
   "outputs": [],
   "source": [
    "import pandas as pd\n",
    "import numpy as np\n",
    "import seaborn as sns\n",
    "from sklearn.cluster import KMeans\n",
    "import matplotlib.pyplot as plt\n",
    "from sklearn.metrics import silhouette_score"
   ]
  },
  {
   "cell_type": "code",
   "execution_count": 29,
   "id": "5490c546",
   "metadata": {},
   "outputs": [],
   "source": [
    "data = pd.read_csv(\"ALS_TrainingData_2223.csv\")"
   ]
  },
  {
   "cell_type": "code",
   "execution_count": 30,
   "id": "b9f1760e",
   "metadata": {},
   "outputs": [
    {
     "data": {
      "text/html": [
       "<div>\n",
       "<style scoped>\n",
       "    .dataframe tbody tr th:only-of-type {\n",
       "        vertical-align: middle;\n",
       "    }\n",
       "\n",
       "    .dataframe tbody tr th {\n",
       "        vertical-align: top;\n",
       "    }\n",
       "\n",
       "    .dataframe thead th {\n",
       "        text-align: right;\n",
       "    }\n",
       "</style>\n",
       "<table border=\"1\" class=\"dataframe\">\n",
       "  <thead>\n",
       "    <tr style=\"text-align: right;\">\n",
       "      <th></th>\n",
       "      <th>ID</th>\n",
       "      <th>Age_mean</th>\n",
       "      <th>Albumin_max</th>\n",
       "      <th>Albumin_median</th>\n",
       "      <th>Albumin_min</th>\n",
       "      <th>Albumin_range</th>\n",
       "      <th>ALSFRS_slope</th>\n",
       "      <th>ALSFRS_Total_max</th>\n",
       "      <th>ALSFRS_Total_median</th>\n",
       "      <th>ALSFRS_Total_min</th>\n",
       "      <th>...</th>\n",
       "      <th>Sodium_min</th>\n",
       "      <th>Sodium_range</th>\n",
       "      <th>SubjectID</th>\n",
       "      <th>trunk_max</th>\n",
       "      <th>trunk_median</th>\n",
       "      <th>trunk_min</th>\n",
       "      <th>trunk_range</th>\n",
       "      <th>Urine.Ph_max</th>\n",
       "      <th>Urine.Ph_median</th>\n",
       "      <th>Urine.Ph_min</th>\n",
       "    </tr>\n",
       "  </thead>\n",
       "  <tbody>\n",
       "    <tr>\n",
       "      <th>0</th>\n",
       "      <td>1</td>\n",
       "      <td>65</td>\n",
       "      <td>57.0</td>\n",
       "      <td>40.5</td>\n",
       "      <td>38.0</td>\n",
       "      <td>0.066202</td>\n",
       "      <td>-0.965608</td>\n",
       "      <td>30</td>\n",
       "      <td>28.0</td>\n",
       "      <td>22</td>\n",
       "      <td>...</td>\n",
       "      <td>143.0</td>\n",
       "      <td>0.017422</td>\n",
       "      <td>533</td>\n",
       "      <td>8</td>\n",
       "      <td>7.0</td>\n",
       "      <td>7</td>\n",
       "      <td>0.002646</td>\n",
       "      <td>6.0</td>\n",
       "      <td>6.0</td>\n",
       "      <td>6.0</td>\n",
       "    </tr>\n",
       "    <tr>\n",
       "      <th>1</th>\n",
       "      <td>2</td>\n",
       "      <td>48</td>\n",
       "      <td>45.0</td>\n",
       "      <td>41.0</td>\n",
       "      <td>39.0</td>\n",
       "      <td>0.010453</td>\n",
       "      <td>-0.921717</td>\n",
       "      <td>37</td>\n",
       "      <td>33.0</td>\n",
       "      <td>21</td>\n",
       "      <td>...</td>\n",
       "      <td>136.0</td>\n",
       "      <td>0.010453</td>\n",
       "      <td>649</td>\n",
       "      <td>8</td>\n",
       "      <td>7.0</td>\n",
       "      <td>5</td>\n",
       "      <td>0.005386</td>\n",
       "      <td>7.0</td>\n",
       "      <td>5.0</td>\n",
       "      <td>5.0</td>\n",
       "    </tr>\n",
       "    <tr>\n",
       "      <th>2</th>\n",
       "      <td>3</td>\n",
       "      <td>38</td>\n",
       "      <td>50.0</td>\n",
       "      <td>47.0</td>\n",
       "      <td>45.0</td>\n",
       "      <td>0.008929</td>\n",
       "      <td>-0.914787</td>\n",
       "      <td>24</td>\n",
       "      <td>14.0</td>\n",
       "      <td>10</td>\n",
       "      <td>...</td>\n",
       "      <td>140.0</td>\n",
       "      <td>0.008929</td>\n",
       "      <td>1234</td>\n",
       "      <td>5</td>\n",
       "      <td>0.0</td>\n",
       "      <td>0</td>\n",
       "      <td>0.008929</td>\n",
       "      <td>6.0</td>\n",
       "      <td>5.0</td>\n",
       "      <td>5.0</td>\n",
       "    </tr>\n",
       "    <tr>\n",
       "      <th>3</th>\n",
       "      <td>4</td>\n",
       "      <td>63</td>\n",
       "      <td>47.0</td>\n",
       "      <td>44.0</td>\n",
       "      <td>41.0</td>\n",
       "      <td>0.012111</td>\n",
       "      <td>-0.598361</td>\n",
       "      <td>30</td>\n",
       "      <td>29.0</td>\n",
       "      <td>24</td>\n",
       "      <td>...</td>\n",
       "      <td>138.0</td>\n",
       "      <td>0.012469</td>\n",
       "      <td>2492</td>\n",
       "      <td>5</td>\n",
       "      <td>5.0</td>\n",
       "      <td>3</td>\n",
       "      <td>0.004988</td>\n",
       "      <td>7.0</td>\n",
       "      <td>6.0</td>\n",
       "      <td>5.0</td>\n",
       "    </tr>\n",
       "    <tr>\n",
       "      <th>4</th>\n",
       "      <td>5</td>\n",
       "      <td>63</td>\n",
       "      <td>47.0</td>\n",
       "      <td>45.5</td>\n",
       "      <td>42.0</td>\n",
       "      <td>0.008292</td>\n",
       "      <td>-0.444039</td>\n",
       "      <td>32</td>\n",
       "      <td>27.5</td>\n",
       "      <td>20</td>\n",
       "      <td>...</td>\n",
       "      <td>138.0</td>\n",
       "      <td>0.008292</td>\n",
       "      <td>2956</td>\n",
       "      <td>6</td>\n",
       "      <td>4.0</td>\n",
       "      <td>1</td>\n",
       "      <td>0.008489</td>\n",
       "      <td>6.0</td>\n",
       "      <td>5.0</td>\n",
       "      <td>5.0</td>\n",
       "    </tr>\n",
       "  </tbody>\n",
       "</table>\n",
       "<p>5 rows × 101 columns</p>\n",
       "</div>"
      ],
      "text/plain": [
       "   ID  Age_mean  Albumin_max  Albumin_median  Albumin_min  Albumin_range  \\\n",
       "0   1        65         57.0            40.5         38.0       0.066202   \n",
       "1   2        48         45.0            41.0         39.0       0.010453   \n",
       "2   3        38         50.0            47.0         45.0       0.008929   \n",
       "3   4        63         47.0            44.0         41.0       0.012111   \n",
       "4   5        63         47.0            45.5         42.0       0.008292   \n",
       "\n",
       "   ALSFRS_slope  ALSFRS_Total_max  ALSFRS_Total_median  ALSFRS_Total_min  ...  \\\n",
       "0     -0.965608                30                 28.0                22  ...   \n",
       "1     -0.921717                37                 33.0                21  ...   \n",
       "2     -0.914787                24                 14.0                10  ...   \n",
       "3     -0.598361                30                 29.0                24  ...   \n",
       "4     -0.444039                32                 27.5                20  ...   \n",
       "\n",
       "   Sodium_min  Sodium_range  SubjectID  trunk_max  trunk_median  trunk_min  \\\n",
       "0       143.0      0.017422        533          8           7.0          7   \n",
       "1       136.0      0.010453        649          8           7.0          5   \n",
       "2       140.0      0.008929       1234          5           0.0          0   \n",
       "3       138.0      0.012469       2492          5           5.0          3   \n",
       "4       138.0      0.008292       2956          6           4.0          1   \n",
       "\n",
       "   trunk_range  Urine.Ph_max  Urine.Ph_median  Urine.Ph_min  \n",
       "0     0.002646           6.0              6.0           6.0  \n",
       "1     0.005386           7.0              5.0           5.0  \n",
       "2     0.008929           6.0              5.0           5.0  \n",
       "3     0.004988           7.0              6.0           5.0  \n",
       "4     0.008489           6.0              5.0           5.0  \n",
       "\n",
       "[5 rows x 101 columns]"
      ]
     },
     "execution_count": 30,
     "metadata": {},
     "output_type": "execute_result"
    }
   ],
   "source": [
    "data.head()"
   ]
  },
  {
   "cell_type": "code",
   "execution_count": 31,
   "id": "0a725ed6",
   "metadata": {},
   "outputs": [
    {
     "data": {
      "text/plain": [
       "ID                 0\n",
       "Age_mean           0\n",
       "Albumin_max        0\n",
       "Albumin_median     0\n",
       "Albumin_min        0\n",
       "                  ..\n",
       "trunk_min          0\n",
       "trunk_range        0\n",
       "Urine.Ph_max       0\n",
       "Urine.Ph_median    0\n",
       "Urine.Ph_min       0\n",
       "Length: 101, dtype: int64"
      ]
     },
     "execution_count": 31,
     "metadata": {},
     "output_type": "execute_result"
    }
   ],
   "source": [
    "# Checking whether any null values are in the dataset.\n",
    "data.isnull().sum()"
   ]
  },
  {
   "cell_type": "code",
   "execution_count": 32,
   "id": "a338fce5",
   "metadata": {},
   "outputs": [],
   "source": [
    "# Removing ID Feature.\n",
    "ID =  data.drop([\"ID\"], axis=1, inplace=True)"
   ]
  },
  {
   "cell_type": "code",
   "execution_count": 33,
   "id": "223339db",
   "metadata": {},
   "outputs": [
    {
     "data": {
      "text/html": [
       "<div>\n",
       "<style scoped>\n",
       "    .dataframe tbody tr th:only-of-type {\n",
       "        vertical-align: middle;\n",
       "    }\n",
       "\n",
       "    .dataframe tbody tr th {\n",
       "        vertical-align: top;\n",
       "    }\n",
       "\n",
       "    .dataframe thead th {\n",
       "        text-align: right;\n",
       "    }\n",
       "</style>\n",
       "<table border=\"1\" class=\"dataframe\">\n",
       "  <thead>\n",
       "    <tr style=\"text-align: right;\">\n",
       "      <th></th>\n",
       "      <th>Age_mean</th>\n",
       "      <th>Albumin_max</th>\n",
       "      <th>Albumin_median</th>\n",
       "      <th>Albumin_min</th>\n",
       "      <th>Albumin_range</th>\n",
       "      <th>ALSFRS_slope</th>\n",
       "      <th>ALSFRS_Total_max</th>\n",
       "      <th>ALSFRS_Total_median</th>\n",
       "      <th>ALSFRS_Total_min</th>\n",
       "      <th>ALSFRS_Total_range</th>\n",
       "      <th>...</th>\n",
       "      <th>Sodium_min</th>\n",
       "      <th>Sodium_range</th>\n",
       "      <th>SubjectID</th>\n",
       "      <th>trunk_max</th>\n",
       "      <th>trunk_median</th>\n",
       "      <th>trunk_min</th>\n",
       "      <th>trunk_range</th>\n",
       "      <th>Urine.Ph_max</th>\n",
       "      <th>Urine.Ph_median</th>\n",
       "      <th>Urine.Ph_min</th>\n",
       "    </tr>\n",
       "  </thead>\n",
       "  <tbody>\n",
       "    <tr>\n",
       "      <th>0</th>\n",
       "      <td>65</td>\n",
       "      <td>57.0</td>\n",
       "      <td>40.5</td>\n",
       "      <td>38.0</td>\n",
       "      <td>0.066202</td>\n",
       "      <td>-0.965608</td>\n",
       "      <td>30</td>\n",
       "      <td>28.0</td>\n",
       "      <td>22</td>\n",
       "      <td>0.021164</td>\n",
       "      <td>...</td>\n",
       "      <td>143.0</td>\n",
       "      <td>0.017422</td>\n",
       "      <td>533</td>\n",
       "      <td>8</td>\n",
       "      <td>7.0</td>\n",
       "      <td>7</td>\n",
       "      <td>0.002646</td>\n",
       "      <td>6.0</td>\n",
       "      <td>6.0</td>\n",
       "      <td>6.0</td>\n",
       "    </tr>\n",
       "    <tr>\n",
       "      <th>1</th>\n",
       "      <td>48</td>\n",
       "      <td>45.0</td>\n",
       "      <td>41.0</td>\n",
       "      <td>39.0</td>\n",
       "      <td>0.010453</td>\n",
       "      <td>-0.921717</td>\n",
       "      <td>37</td>\n",
       "      <td>33.0</td>\n",
       "      <td>21</td>\n",
       "      <td>0.028725</td>\n",
       "      <td>...</td>\n",
       "      <td>136.0</td>\n",
       "      <td>0.010453</td>\n",
       "      <td>649</td>\n",
       "      <td>8</td>\n",
       "      <td>7.0</td>\n",
       "      <td>5</td>\n",
       "      <td>0.005386</td>\n",
       "      <td>7.0</td>\n",
       "      <td>5.0</td>\n",
       "      <td>5.0</td>\n",
       "    </tr>\n",
       "    <tr>\n",
       "      <th>2</th>\n",
       "      <td>38</td>\n",
       "      <td>50.0</td>\n",
       "      <td>47.0</td>\n",
       "      <td>45.0</td>\n",
       "      <td>0.008929</td>\n",
       "      <td>-0.914787</td>\n",
       "      <td>24</td>\n",
       "      <td>14.0</td>\n",
       "      <td>10</td>\n",
       "      <td>0.025000</td>\n",
       "      <td>...</td>\n",
       "      <td>140.0</td>\n",
       "      <td>0.008929</td>\n",
       "      <td>1234</td>\n",
       "      <td>5</td>\n",
       "      <td>0.0</td>\n",
       "      <td>0</td>\n",
       "      <td>0.008929</td>\n",
       "      <td>6.0</td>\n",
       "      <td>5.0</td>\n",
       "      <td>5.0</td>\n",
       "    </tr>\n",
       "    <tr>\n",
       "      <th>3</th>\n",
       "      <td>63</td>\n",
       "      <td>47.0</td>\n",
       "      <td>44.0</td>\n",
       "      <td>41.0</td>\n",
       "      <td>0.012111</td>\n",
       "      <td>-0.598361</td>\n",
       "      <td>30</td>\n",
       "      <td>29.0</td>\n",
       "      <td>24</td>\n",
       "      <td>0.014963</td>\n",
       "      <td>...</td>\n",
       "      <td>138.0</td>\n",
       "      <td>0.012469</td>\n",
       "      <td>2492</td>\n",
       "      <td>5</td>\n",
       "      <td>5.0</td>\n",
       "      <td>3</td>\n",
       "      <td>0.004988</td>\n",
       "      <td>7.0</td>\n",
       "      <td>6.0</td>\n",
       "      <td>5.0</td>\n",
       "    </tr>\n",
       "    <tr>\n",
       "      <th>4</th>\n",
       "      <td>63</td>\n",
       "      <td>47.0</td>\n",
       "      <td>45.5</td>\n",
       "      <td>42.0</td>\n",
       "      <td>0.008292</td>\n",
       "      <td>-0.444039</td>\n",
       "      <td>32</td>\n",
       "      <td>27.5</td>\n",
       "      <td>20</td>\n",
       "      <td>0.020374</td>\n",
       "      <td>...</td>\n",
       "      <td>138.0</td>\n",
       "      <td>0.008292</td>\n",
       "      <td>2956</td>\n",
       "      <td>6</td>\n",
       "      <td>4.0</td>\n",
       "      <td>1</td>\n",
       "      <td>0.008489</td>\n",
       "      <td>6.0</td>\n",
       "      <td>5.0</td>\n",
       "      <td>5.0</td>\n",
       "    </tr>\n",
       "  </tbody>\n",
       "</table>\n",
       "<p>5 rows × 100 columns</p>\n",
       "</div>"
      ],
      "text/plain": [
       "   Age_mean  Albumin_max  Albumin_median  Albumin_min  Albumin_range  \\\n",
       "0        65         57.0            40.5         38.0       0.066202   \n",
       "1        48         45.0            41.0         39.0       0.010453   \n",
       "2        38         50.0            47.0         45.0       0.008929   \n",
       "3        63         47.0            44.0         41.0       0.012111   \n",
       "4        63         47.0            45.5         42.0       0.008292   \n",
       "\n",
       "   ALSFRS_slope  ALSFRS_Total_max  ALSFRS_Total_median  ALSFRS_Total_min  \\\n",
       "0     -0.965608                30                 28.0                22   \n",
       "1     -0.921717                37                 33.0                21   \n",
       "2     -0.914787                24                 14.0                10   \n",
       "3     -0.598361                30                 29.0                24   \n",
       "4     -0.444039                32                 27.5                20   \n",
       "\n",
       "   ALSFRS_Total_range  ...  Sodium_min  Sodium_range  SubjectID  trunk_max  \\\n",
       "0            0.021164  ...       143.0      0.017422        533          8   \n",
       "1            0.028725  ...       136.0      0.010453        649          8   \n",
       "2            0.025000  ...       140.0      0.008929       1234          5   \n",
       "3            0.014963  ...       138.0      0.012469       2492          5   \n",
       "4            0.020374  ...       138.0      0.008292       2956          6   \n",
       "\n",
       "   trunk_median  trunk_min  trunk_range  Urine.Ph_max  Urine.Ph_median  \\\n",
       "0           7.0          7     0.002646           6.0              6.0   \n",
       "1           7.0          5     0.005386           7.0              5.0   \n",
       "2           0.0          0     0.008929           6.0              5.0   \n",
       "3           5.0          3     0.004988           7.0              6.0   \n",
       "4           4.0          1     0.008489           6.0              5.0   \n",
       "\n",
       "   Urine.Ph_min  \n",
       "0           6.0  \n",
       "1           5.0  \n",
       "2           5.0  \n",
       "3           5.0  \n",
       "4           5.0  \n",
       "\n",
       "[5 rows x 100 columns]"
      ]
     },
     "execution_count": 33,
     "metadata": {},
     "output_type": "execute_result"
    }
   ],
   "source": [
    "data.head()"
   ]
  },
  {
   "cell_type": "code",
   "execution_count": 34,
   "id": "b33fc13d",
   "metadata": {},
   "outputs": [],
   "source": [
    "Data = data.iloc[: , :].values\n",
    "#from sklearn.preprocessing import MinMaxScaler\n",
    "#scaler = MinMaxScaler()\n",
    "#Data = scaler.fit_transform(sata)"
   ]
  },
  {
   "cell_type": "code",
   "execution_count": 35,
   "id": "be203aa4",
   "metadata": {},
   "outputs": [
    {
     "data": {
      "image/png": "[encoded data removed]",
      "text/plain": [
       "<Figure size 432x288 with 1 Axes>"
      ]
     },
     "metadata": {
      "needs_background": "light"
     },
     "output_type": "display_data"
    }
   ],
   "source": [
    "#Plotting Elbow Graph for selecting no of clusters.\n",
    "\n",
    "wcss=[]\n",
    "for i in range(1,10):\n",
    "    km = KMeans(n_clusters = i, init = \"k-means++\", random_state = 0)\n",
    "    km.fit(Data)\n",
    "    wcss.append(km.inertia_)\n",
    "plt.plot(range(1,10), wcss)\n",
    "plt.xlabel(\"Clusters\")\n",
    "plt.ylabel(\"WCSS\")\n",
    "plt.title(\"ELBOW Graph\")\n",
    "plt.show()"
   ]
  },
  {
   "cell_type": "markdown",
   "id": "4283c3cf",
   "metadata": {},
   "source": [
    "Firstly we will try with 3 clusters."
   ]
  },
  {
   "cell_type": "code",
   "execution_count": 36,
   "id": "ef6e74d2",
   "metadata": {},
   "outputs": [
    {
     "data": {
      "text/plain": [
       "KMeans(n_clusters=3, random_state=0)"
      ]
     },
     "execution_count": 36,
     "metadata": {},
     "output_type": "execute_result"
    }
   ],
   "source": [
    "kmeans3 = KMeans(n_clusters = 3, init = \"k-means++\", random_state=0)\n",
    "kmeans3.fit(Data)"
   ]
  },
  {
   "cell_type": "code",
   "execution_count": 37,
   "id": "72b29f3a",
   "metadata": {},
   "outputs": [
    {
     "data": {
      "text/plain": [
       "array([1, 1, 1, ..., 0, 0, 0])"
      ]
     },
     "execution_count": 37,
     "metadata": {},
     "output_type": "execute_result"
    }
   ],
   "source": [
    "Train3_labels = kmeans3.labels_\n",
    "Train3_labels"
   ]
  },
  {
   "cell_type": "code",
   "execution_count": 38,
   "id": "ff1ee0ef",
   "metadata": {},
   "outputs": [],
   "source": [
    "# uploaded testing dataset. \n",
    "testing = pd.read_csv(\"ALS_TestingData_78.csv\")\n",
    "TestID = testing.drop([\"ID\"], axis=1, inplace =True)\n",
    "test_data = testing.iloc[: , :].values"
   ]
  },
  {
   "cell_type": "code",
   "execution_count": 39,
   "id": "96372574",
   "metadata": {},
   "outputs": [],
   "source": [
    "testresult3 = kmeans3.fit(test_data)"
   ]
  },
  {
   "cell_type": "code",
   "execution_count": 40,
   "id": "f11e3e2d",
   "metadata": {},
   "outputs": [
    {
     "data": {
      "text/plain": [
       "array([1, 1, 1, 1, 1, 1, 1, 1, 1, 1, 1, 1, 1, 1, 1, 1, 1, 1, 1, 1, 1, 1,\n",
       "       1, 0, 0, 0, 0, 0, 0, 0, 0, 0, 0, 0, 0, 0, 0, 0, 0, 0, 0, 0, 0, 0,\n",
       "       0, 0, 0, 0, 0, 0, 0, 0, 0, 2, 2, 2, 2, 2, 2, 2, 2, 2, 2, 2, 2, 2,\n",
       "       2, 2, 2, 2, 2, 2, 2, 2, 2, 2, 2, 2])"
      ]
     },
     "execution_count": 40,
     "metadata": {},
     "output_type": "execute_result"
    }
   ],
   "source": [
    "Test3_labels = kmeans3.labels_\n",
    "Test3_labels"
   ]
  },
  {
   "cell_type": "code",
   "execution_count": 41,
   "id": "ad69f32c",
   "metadata": {},
   "outputs": [
    {
     "name": "stdout",
     "output_type": "stream",
     "text": [
      "The average silhouette score for training data (3 clusters) : 0.5909974863962754\n",
      "The average silhouette score for testing data (3 clusters) : 0.6017794649560612\n"
     ]
    }
   ],
   "source": [
    "# we need to verify clusters with 3 or 4 is very optimised.\n",
    "# for that we use Silhoutte method.\n",
    "print(\"The average silhouette score for training data (3 clusters) :\", silhouette_score(Data, Train3_labels))\n",
    "print(\"The average silhouette score for testing data (3 clusters) :\", silhouette_score(test_data, Test3_labels))"
   ]
  },
  {
   "cell_type": "markdown",
   "id": "1d7ae9eb",
   "metadata": {},
   "source": [
    "."
   ]
  },
  {
   "cell_type": "markdown",
   "id": "9d1c9fbd",
   "metadata": {},
   "source": [
    "Now, we will try with 2 clusters."
   ]
  },
  {
   "cell_type": "code",
   "execution_count": 42,
   "id": "070e70e8",
   "metadata": {},
   "outputs": [
    {
     "data": {
      "text/plain": [
       "KMeans(n_clusters=2, random_state=0)"
      ]
     },
     "execution_count": 42,
     "metadata": {},
     "output_type": "execute_result"
    }
   ],
   "source": [
    "kmeans2 = KMeans(n_clusters = 2, init = \"k-means++\", random_state=0)\n",
    "kmeans2.fit(Data)\n",
    "#wcss value of 4 clusters.\n",
    "#print(\"With in Cluster Sum of Squares :\",kmeans2.inertia_)"
   ]
  },
  {
   "cell_type": "code",
   "execution_count": 43,
   "id": "10116b98",
   "metadata": {},
   "outputs": [],
   "source": [
    "# WCSS value for 3 clusters.\n",
    "#print(\"With in Cluster Sum of Squares :\",kmeans2.inertia_)\n",
    "\n",
    "#Centroid for 3 clusters.\n",
    "#print(\"Centroid of the clusters :\", kmeans2.cluster_centers_)"
   ]
  },
  {
   "cell_type": "code",
   "execution_count": 44,
   "id": "c3bb1fe7",
   "metadata": {},
   "outputs": [
    {
     "data": {
      "text/plain": [
       "array([1, 1, 1, ..., 0, 0, 0])"
      ]
     },
     "execution_count": 44,
     "metadata": {},
     "output_type": "execute_result"
    }
   ],
   "source": [
    "Train2_labels = kmeans2.labels_\n",
    "Train2_labels"
   ]
  },
  {
   "cell_type": "code",
   "execution_count": 45,
   "id": "b91f89c2",
   "metadata": {},
   "outputs": [],
   "source": [
    "Testresult2 = kmeans2.fit(test_data)"
   ]
  },
  {
   "cell_type": "code",
   "execution_count": 46,
   "id": "2de3b96d",
   "metadata": {},
   "outputs": [
    {
     "data": {
      "text/plain": [
       "array([1, 1, 1, 1, 1, 1, 1, 1, 1, 1, 1, 1, 1, 1, 1, 1, 1, 1, 1, 1, 1, 1,\n",
       "       1, 1, 1, 1, 1, 1, 1, 1, 1, 1, 0, 0, 0, 0, 0, 0, 0, 0, 0, 0, 0, 0,\n",
       "       0, 0, 0, 0, 0, 0, 0, 0, 0, 0, 0, 0, 0, 0, 0, 0, 0, 0, 0, 0, 0, 0,\n",
       "       0, 0, 0, 0, 0, 0, 0, 0, 0, 0, 0, 0])"
      ]
     },
     "execution_count": 46,
     "metadata": {},
     "output_type": "execute_result"
    }
   ],
   "source": [
    "Test2_labels = kmeans2.labels_\n",
    "Test2_labels"
   ]
  },
  {
   "cell_type": "code",
   "execution_count": 47,
   "id": "17da41d3",
   "metadata": {},
   "outputs": [
    {
     "name": "stdout",
     "output_type": "stream",
     "text": [
      "The average silhouette score for training data (2 clusters) : 0.6303941858456936\n",
      "The average silhouette score for testing data (2 clusters) : 0.605346965210753\n"
     ]
    }
   ],
   "source": [
    "# we need to verify clusters with 3 or 4 is very optimised.\n",
    "# for that we use Silhoutte method.\n",
    "print(\"The average silhouette score for training data (2 clusters) :\", silhouette_score(Data, Train2_labels))\n",
    "print(\"The average silhouette score for testing data (2 clusters) :\", silhouette_score(test_data, Test2_labels))"
   ]
  },
  {
   "cell_type": "markdown",
   "id": "b66aa8f3",
   "metadata": {},
   "source": [
    "............................................................................................................................"
   ]
  },
  {
   "cell_type": "markdown",
   "id": "11108d16",
   "metadata": {},
   "source": [
    "The value of silhouette score lies between -1 to +1.\n",
    "if the model has value 1 or near to 1, then it performs well. if it is -1 or near to -1, then model perfomance is bad.\n",
    "\n",
    "From the above silhouette score, we found out that 2 clusters have better perfomance compared to 3 clusters. In both training dataset and testing dataset."
   ]
  },
  {
   "cell_type": "code",
   "execution_count": 48,
   "id": "602152bc",
   "metadata": {},
   "outputs": [
    {
     "data": {
      "text/html": [
       "<div>\n",
       "<style scoped>\n",
       "    .dataframe tbody tr th:only-of-type {\n",
       "        vertical-align: middle;\n",
       "    }\n",
       "\n",
       "    .dataframe tbody tr th {\n",
       "        vertical-align: top;\n",
       "    }\n",
       "\n",
       "    .dataframe thead th {\n",
       "        text-align: right;\n",
       "    }\n",
       "</style>\n",
       "<table border=\"1\" class=\"dataframe\">\n",
       "  <thead>\n",
       "    <tr style=\"text-align: right;\">\n",
       "      <th></th>\n",
       "      <th>Age_mean</th>\n",
       "      <th>Albumin_max</th>\n",
       "      <th>Albumin_median</th>\n",
       "      <th>Albumin_min</th>\n",
       "      <th>Albumin_range</th>\n",
       "      <th>ALSFRS_slope</th>\n",
       "      <th>ALSFRS_Total_max</th>\n",
       "      <th>ALSFRS_Total_median</th>\n",
       "      <th>ALSFRS_Total_min</th>\n",
       "      <th>ALSFRS_Total_range</th>\n",
       "      <th>...</th>\n",
       "      <th>Sodium_range</th>\n",
       "      <th>SubjectID</th>\n",
       "      <th>trunk_max</th>\n",
       "      <th>trunk_median</th>\n",
       "      <th>trunk_min</th>\n",
       "      <th>trunk_range</th>\n",
       "      <th>Urine.Ph_max</th>\n",
       "      <th>Urine.Ph_median</th>\n",
       "      <th>Urine.Ph_min</th>\n",
       "      <th>Labels</th>\n",
       "    </tr>\n",
       "  </thead>\n",
       "  <tbody>\n",
       "    <tr>\n",
       "      <th>0</th>\n",
       "      <td>65</td>\n",
       "      <td>57.0</td>\n",
       "      <td>40.5</td>\n",
       "      <td>38.0</td>\n",
       "      <td>0.066202</td>\n",
       "      <td>-0.965608</td>\n",
       "      <td>30</td>\n",
       "      <td>28.0</td>\n",
       "      <td>22</td>\n",
       "      <td>0.021164</td>\n",
       "      <td>...</td>\n",
       "      <td>0.017422</td>\n",
       "      <td>533</td>\n",
       "      <td>8</td>\n",
       "      <td>7.0</td>\n",
       "      <td>7</td>\n",
       "      <td>0.002646</td>\n",
       "      <td>6.0</td>\n",
       "      <td>6.0</td>\n",
       "      <td>6.0</td>\n",
       "      <td>1</td>\n",
       "    </tr>\n",
       "    <tr>\n",
       "      <th>1</th>\n",
       "      <td>48</td>\n",
       "      <td>45.0</td>\n",
       "      <td>41.0</td>\n",
       "      <td>39.0</td>\n",
       "      <td>0.010453</td>\n",
       "      <td>-0.921717</td>\n",
       "      <td>37</td>\n",
       "      <td>33.0</td>\n",
       "      <td>21</td>\n",
       "      <td>0.028725</td>\n",
       "      <td>...</td>\n",
       "      <td>0.010453</td>\n",
       "      <td>649</td>\n",
       "      <td>8</td>\n",
       "      <td>7.0</td>\n",
       "      <td>5</td>\n",
       "      <td>0.005386</td>\n",
       "      <td>7.0</td>\n",
       "      <td>5.0</td>\n",
       "      <td>5.0</td>\n",
       "      <td>1</td>\n",
       "    </tr>\n",
       "    <tr>\n",
       "      <th>2</th>\n",
       "      <td>38</td>\n",
       "      <td>50.0</td>\n",
       "      <td>47.0</td>\n",
       "      <td>45.0</td>\n",
       "      <td>0.008929</td>\n",
       "      <td>-0.914787</td>\n",
       "      <td>24</td>\n",
       "      <td>14.0</td>\n",
       "      <td>10</td>\n",
       "      <td>0.025000</td>\n",
       "      <td>...</td>\n",
       "      <td>0.008929</td>\n",
       "      <td>1234</td>\n",
       "      <td>5</td>\n",
       "      <td>0.0</td>\n",
       "      <td>0</td>\n",
       "      <td>0.008929</td>\n",
       "      <td>6.0</td>\n",
       "      <td>5.0</td>\n",
       "      <td>5.0</td>\n",
       "      <td>1</td>\n",
       "    </tr>\n",
       "    <tr>\n",
       "      <th>3</th>\n",
       "      <td>63</td>\n",
       "      <td>47.0</td>\n",
       "      <td>44.0</td>\n",
       "      <td>41.0</td>\n",
       "      <td>0.012111</td>\n",
       "      <td>-0.598361</td>\n",
       "      <td>30</td>\n",
       "      <td>29.0</td>\n",
       "      <td>24</td>\n",
       "      <td>0.014963</td>\n",
       "      <td>...</td>\n",
       "      <td>0.012469</td>\n",
       "      <td>2492</td>\n",
       "      <td>5</td>\n",
       "      <td>5.0</td>\n",
       "      <td>3</td>\n",
       "      <td>0.004988</td>\n",
       "      <td>7.0</td>\n",
       "      <td>6.0</td>\n",
       "      <td>5.0</td>\n",
       "      <td>1</td>\n",
       "    </tr>\n",
       "    <tr>\n",
       "      <th>4</th>\n",
       "      <td>63</td>\n",
       "      <td>47.0</td>\n",
       "      <td>45.5</td>\n",
       "      <td>42.0</td>\n",
       "      <td>0.008292</td>\n",
       "      <td>-0.444039</td>\n",
       "      <td>32</td>\n",
       "      <td>27.5</td>\n",
       "      <td>20</td>\n",
       "      <td>0.020374</td>\n",
       "      <td>...</td>\n",
       "      <td>0.008292</td>\n",
       "      <td>2956</td>\n",
       "      <td>6</td>\n",
       "      <td>4.0</td>\n",
       "      <td>1</td>\n",
       "      <td>0.008489</td>\n",
       "      <td>6.0</td>\n",
       "      <td>5.0</td>\n",
       "      <td>5.0</td>\n",
       "      <td>1</td>\n",
       "    </tr>\n",
       "  </tbody>\n",
       "</table>\n",
       "<p>5 rows × 101 columns</p>\n",
       "</div>"
      ],
      "text/plain": [
       "   Age_mean  Albumin_max  Albumin_median  Albumin_min  Albumin_range  \\\n",
       "0        65         57.0            40.5         38.0       0.066202   \n",
       "1        48         45.0            41.0         39.0       0.010453   \n",
       "2        38         50.0            47.0         45.0       0.008929   \n",
       "3        63         47.0            44.0         41.0       0.012111   \n",
       "4        63         47.0            45.5         42.0       0.008292   \n",
       "\n",
       "   ALSFRS_slope  ALSFRS_Total_max  ALSFRS_Total_median  ALSFRS_Total_min  \\\n",
       "0     -0.965608                30                 28.0                22   \n",
       "1     -0.921717                37                 33.0                21   \n",
       "2     -0.914787                24                 14.0                10   \n",
       "3     -0.598361                30                 29.0                24   \n",
       "4     -0.444039                32                 27.5                20   \n",
       "\n",
       "   ALSFRS_Total_range  ...  Sodium_range  SubjectID  trunk_max  trunk_median  \\\n",
       "0            0.021164  ...      0.017422        533          8           7.0   \n",
       "1            0.028725  ...      0.010453        649          8           7.0   \n",
       "2            0.025000  ...      0.008929       1234          5           0.0   \n",
       "3            0.014963  ...      0.012469       2492          5           5.0   \n",
       "4            0.020374  ...      0.008292       2956          6           4.0   \n",
       "\n",
       "   trunk_min  trunk_range  Urine.Ph_max  Urine.Ph_median  Urine.Ph_min  Labels  \n",
       "0          7     0.002646           6.0              6.0           6.0       1  \n",
       "1          5     0.005386           7.0              5.0           5.0       1  \n",
       "2          0     0.008929           6.0              5.0           5.0       1  \n",
       "3          3     0.004988           7.0              6.0           5.0       1  \n",
       "4          1     0.008489           6.0              5.0           5.0       1  \n",
       "\n",
       "[5 rows x 101 columns]"
      ]
     },
     "execution_count": 48,
     "metadata": {},
     "output_type": "execute_result"
    }
   ],
   "source": [
    "Labels = pd.DataFrame(Train2_labels)\n",
    "Data_2clusters = pd.concat((data,Labels), axis=1)\n",
    "Data_2clusters =  Data_2clusters.rename({0:\"Labels\"}, axis=1)\n",
    "Data_2clusters.head()"
   ]
  },
  {
   "cell_type": "code",
   "execution_count": 49,
   "id": "fd517d31",
   "metadata": {},
   "outputs": [
    {
     "name": "stdout",
     "output_type": "stream",
     "text": [
      "Centroid of the clusters : [[ 5.39643240e+01  4.53260870e+01  4.24673913e+01  3.94347826e+01\n",
      "   1.40087967e-02 -8.21768691e-01  2.98043478e+01  2.18586957e+01\n",
      "   1.47173913e+01  2.80769622e-02  5.83695652e+01  3.37608696e+01\n",
      "   2.33695652e+01  8.82144542e-02  4.28260870e+01  2.90434783e+01\n",
      "   2.12173913e+01  5.71258745e-02  1.47826087e+00  6.68478261e-01\n",
      "   3.17391304e-01  2.91335515e-03  2.72913043e+01  2.40304348e+01\n",
      "   2.06934783e+01  1.79587590e-02  1.26086957e+01  8.28619565e+00\n",
      "   5.35369565e+00  1.99388043e-02  7.25447826e+00  5.48743478e+00\n",
      "   4.02904348e+00  9.23990763e-03  2.61450400e-03  9.10869565e+01\n",
      "   8.05760870e+01  6.81304348e+01  5.60497353e-02  1.42282609e+02\n",
      "   1.24836957e+02  1.08782609e+02  8.11279273e-02  2.54293478e+00\n",
      "   2.42679348e+00  2.28586957e+00  6.10897587e-04  1.05239130e+02\n",
      "   1.02423913e+02  9.95434783e+01  1.45172925e-02  7.13521739e+01\n",
      "   5.69452174e+01  4.29652174e+01  7.35057015e-02  4.33913043e+00\n",
      "   2.07934783e+00  9.06521739e-01  9.40611961e-03  1.54347826e+00\n",
      "   7.67652174e+00  5.41315217e+00  4.26902174e+00  9.32420689e-03\n",
      "   5.73913043e+00  3.77173913e+00  1.93478261e+00  7.08933450e-03\n",
      "   4.76869565e+01  4.37347826e+01  4.03456522e+01  1.91551925e-02\n",
      "   1.54847826e+02  1.44130435e+02  1.34217391e+02  5.49858270e-02\n",
      "   4.60869565e+00  3.04347826e+00  1.56521739e+00  5.88492461e-03\n",
      "   3.31804348e+01  2.51239130e+01  1.74608696e+01  4.29324353e-02\n",
      "   9.15869565e+00  6.51195652e+00  4.51739130e+00  1.12622952e-02\n",
      "   1.06304348e+01  8.55434783e+00  6.34782609e+00  7.83421526e-03\n",
      "  -5.03282609e+02  2.67391304e+00  3.10043478e+02  2.86380435e+02\n",
      "   2.64913043e+02  4.55652174e+00  4.12608696e+00  3.74565217e+00\n",
      "   2.07195674e-03  9.60000000e+01  7.89673913e+01  6.53043478e+01\n",
      "   7.36102264e-02  5.05347826e+03  4.70771739e+03  4.38673913e+03\n",
      "   1.68790629e+00  3.86956522e+00  3.00000000e+00  1.89130435e+00\n",
      "   3.81028322e-03  1.43065217e+02  1.40108696e+02  1.37239130e+02\n",
      "   1.52201175e-02  7.10079174e+05  5.65217391e+00  3.63043478e+00\n",
      "   1.76086957e+00  7.06728954e-03  7.10869565e+00  6.15217391e+00\n",
      "   5.52173913e+00  4.10683417e-03  9.19782609e+00  6.85043478e+00\n",
      "   5.33891304e+00  1.09684242e-02]\n",
      " [ 5.89886130e+01  4.51562500e+01  4.17500000e+01  3.81562500e+01\n",
      "   2.06971007e-02 -8.31755706e-01  2.98125000e+01  2.10937500e+01\n",
      "   1.46875000e+01  2.82764333e-02  6.00937500e+01  3.04375000e+01\n",
      "   2.09062500e+01  1.38874670e-01  5.62500000e+01  2.86250000e+01\n",
      "   2.09062500e+01  1.18586140e-01  1.56875000e+00  6.84375000e-01\n",
      "   3.21875000e-01  3.81845291e-03  2.88281250e+01  2.51484375e+01\n",
      "   2.18968750e+01  1.83198063e-02  1.17918750e+01  7.87328125e+00\n",
      "   4.97593750e+00  2.72155123e-02  8.38800000e+00  6.13239063e+00\n",
      "   4.45712500e+00  1.11681454e-02  2.65487072e-03  8.98125000e+01\n",
      "   7.95156250e+01  6.67187500e+01  5.91711365e-02  1.45250000e+02\n",
      "   1.26234375e+02  1.09125000e+02  9.36437452e-02  2.54359375e+00\n",
      "   2.41125000e+00  2.28718750e+00  8.77146719e-04  1.05250000e+02\n",
      "   1.02218750e+02  9.87500000e+01  1.90907974e-02  8.44362500e+01\n",
      "   5.90843750e+01  4.57025000e+01  9.67187408e-02  4.40312500e+00\n",
      "   2.35781250e+00  1.11875000e+00  9.93666103e-03  1.71875000e+00\n",
      "   7.94265625e+00  5.54531250e+00  4.47203125e+00  1.17555728e-02\n",
      "   5.84375000e+00  3.71875000e+00  1.93750000e+00  7.49624397e-03\n",
      "   4.77281250e+01  4.36343750e+01  3.98468750e+01  2.23174618e-02\n",
      "   1.54468750e+02  1.44500000e+02  1.32968750e+02  6.06909581e-02\n",
      "   4.87500000e+00  3.01562500e+00  1.84375000e+00  5.56945838e-03\n",
      "   3.27375000e+01  2.55187500e+01  1.72656250e+01  5.18837706e-02\n",
      "   9.88750000e+00  6.62968750e+00  4.68750000e+00  1.55190361e-02\n",
      "   1.04687500e+01  8.35937500e+00  6.09375000e+00  8.06945219e-03\n",
      "  -5.35718750e+02  2.50000000e+00  3.14531250e+02  2.77328125e+02\n",
      "   2.55750000e+02  4.76875000e+00  4.23125000e+00  3.81562500e+00\n",
      "   2.57627412e-03  9.59062500e+01  7.84843750e+01  6.38437500e+01\n",
      "   8.01229871e-02  5.09500000e+03  4.72906250e+03  4.32187500e+03\n",
      "   2.43510373e+00  3.81250000e+00  3.00000000e+00  1.90625000e+00\n",
      "   3.48758772e-03  1.43375000e+02  1.40500000e+02  1.37750000e+02\n",
      "   1.60492756e-02  2.56437594e+05  5.68750000e+00  3.39062500e+00\n",
      "   2.03125000e+00  7.22684994e-03  7.03125000e+00  6.25000000e+00\n",
      "   5.62500000e+00  5.17134025e-03  9.54875000e+00  6.70093750e+00\n",
      "   5.21000000e+00  1.39765849e-02]]\n"
     ]
    }
   ],
   "source": [
    "#Centroid for  clusters.\n",
    "print(\"Centroid of the clusters :\", kmeans2.cluster_centers_)"
   ]
  },
  {
   "cell_type": "code",
   "execution_count": 50,
   "id": "eb75967d",
   "metadata": {},
   "outputs": [],
   "source": [
    "#sns.pairplot(Data_2clusters, hue = \"Labels\")\n",
    "#sns.lmplot(x='Sodium_range',y='ALSFRS_slope',data=Data_2clusters,hue='Labels',fit_reg=False)"
   ]
  }
 ],
 "metadata": {
  "kernelspec": {
   "display_name": "Python 3 (ipykernel)",
   "language": "python",
   "name": "python3"
  },
  "language_info": {
   "codemirror_mode": {
    "name": "ipython",
    "version": 3
   },
   "file_extension": ".py",
   "mimetype": "text/x-python",
   "name": "python",
   "nbconvert_exporter": "python",
   "pygments_lexer": "ipython3",
   "version": "3.9.7"
  }
 },
 "nbformat": 4,
 "nbformat_minor": 5
}
